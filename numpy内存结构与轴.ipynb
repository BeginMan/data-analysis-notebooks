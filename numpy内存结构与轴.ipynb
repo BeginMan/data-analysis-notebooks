{
 "cells": [
  {
   "cell_type": "markdown",
   "metadata": {},
   "source": [
    "# ndarray内存结构\n",
    "\n",
    "这个结构引用两个对象：一块用于保存数据的存储区域和一个用于描述元素类型的dtype对象\n",
    "\n",
    "![](http://img.voidcn.com/vcimg/000/000/101/629_2d3_1e9.png)\n"
   ]
  },
  {
   "cell_type": "code",
   "execution_count": 2,
   "metadata": {},
   "outputs": [
    {
     "data": {
      "text/plain": [
       "array([[ 0.,  1.,  2.],\n",
       "       [ 3.,  4.,  5.],\n",
       "       [ 6.,  7.,  8.]], dtype=float32)"
      ]
     },
     "execution_count": 2,
     "metadata": {},
     "output_type": "execute_result"
    }
   ],
   "source": [
    "import numpy as np\n",
    "a = np.array([\n",
    "    [0, 1, 2],\n",
    "    [3, 4, 5],\n",
    "    [6, 7, 8]\n",
    "], dtype=np.float32)\n",
    "a"
   ]
  },
  {
   "cell_type": "markdown",
   "metadata": {},
   "source": [
    "**`strides`中保存的是当每个轴的下标增加1时，数据存储区中的指针所增加的字节数。**\n",
    "\n",
    "例如图中的strides为12,4，即：\n",
    "\n",
    "- 第0轴的下标增加1时，数据的地址增加12个字节：即a[1,0]的地址比a[0,0]的地址要高12个字节，正好是3个单精度浮点数的总字节数；\n",
    "- 第1轴下标增加1时，数据的地址增加4个字节，如a[1, 1]比a[1, 0]高4个字节，正好是单精度浮点数的字节数。\n"
   ]
  },
  {
   "cell_type": "markdown",
   "metadata": {},
   "source": [
    "# 多维数组"
   ]
  },
  {
   "cell_type": "markdown",
   "metadata": {},
   "source": [
    "多维数组的概念：\n",
    "\n",
    "- axes(轴)：数组的维度统称为轴\n",
    "- rank：轴的数量称为rank"
   ]
  },
  {
   "cell_type": "markdown",
   "metadata": {},
   "source": [
    "一维数组就是一个rank为1的数组，因为它只有一个轴(一维)。下图显示的是一个rank为2(二维)的数组。\n",
    "\n",
    "![](http://s5.51cto.com/wyfs02/M02/90/6F/wKioL1jweq2TC6FEAABfAUB-BW8153.jpg)\n",
    "\n",
    "- 第一个轴(维)的长度是2，红线框表示\n",
    "- 第二个轴(维)的长度是3，蓝线框表示"
   ]
  },
  {
   "cell_type": "markdown",
   "metadata": {},
   "source": [
    "`ndarray`的主要属性：\n",
    "\n",
    "- ndim：数组的轴数(维度)\n",
    "- shape：python的元组类型，其中每个数字分别表示的是各个轴(维)上数组的长度\n",
    "- size：多维数组里全部元素的总数(等于shape元组里所有数值的乘积)\n",
    "- dtype：多维数组里元素的类型\n",
    "\n",
    "其他属性如：\n",
    "\n",
    "- itemsize：每一个元素所占字节数。如，类型为float64的数组itemsiz属性值为`8(=64/8)`\n",
    "- nbytes： 这个array的总字节数（`=itemsize*size`）\n",
    "- real: 所有元素的实数部分\n",
    "- imag: 所有元素的虚数部分\n",
    "- flat：平铺成一维的，可索引的一系列的元素组合。可`for x in array.flat`来取得到所有的元素。\n",
    "- T： 矩阵转置，同`transpose()`方法"
   ]
  },
  {
   "cell_type": "code",
   "execution_count": 17,
   "metadata": {},
   "outputs": [
    {
     "name": "stdout",
     "output_type": "stream",
     "text": [
      "{'ndim': 2, 'shape': (3, 3), 'size': 9, 'dtype': dtype('float32')}\n"
     ]
    }
   ],
   "source": [
    "print ({\n",
    "    'ndim': a.ndim,\n",
    "    'shape': a.shape,\n",
    "    'size': a.size,\n",
    "    'dtype': a.dtype\n",
    "})"
   ]
  },
  {
   "cell_type": "markdown",
   "metadata": {},
   "source": [
    "# 轴的概念"
   ]
  },
  {
   "cell_type": "markdown",
   "metadata": {},
   "source": [
    "n 维空间里有 n 个坐标轴（coordinate axis），并且坐标轴互相垂直，每一个点相对于一条坐标轴都有唯一的一个坐标值\n",
    "\n",
    "在numpy中的多维数组，轴即是元素坐标的索引。比如，第0轴即是第1个索引，延0轴计算就是去掉坐标中的第一个索引。如果一个多维数组的 shape 是 (a1, a2, a3, a4), 那么延轴0计算最后的数组shape 是 (a2, a3, a4), 延轴1计算最后的数组shape是 (a1, a3, a4)"
   ]
  },
  {
   "cell_type": "code",
   "execution_count": 30,
   "metadata": {},
   "outputs": [
    {
     "data": {
      "text/plain": [
       "((3, 2, 2), 3)"
      ]
     },
     "execution_count": 30,
     "metadata": {},
     "output_type": "execute_result"
    }
   ],
   "source": [
    "# 三维数组\n",
    "np.random.seed(123)\n",
    "b = np.random.randint(0, 5, [3, 2, 2])\n",
    "b.shape, b.ndim"
   ]
  },
  {
   "cell_type": "code",
   "execution_count": 31,
   "metadata": {},
   "outputs": [
    {
     "data": {
      "text/plain": [
       "array([[[2, 4],\n",
       "        [2, 1]],\n",
       "\n",
       "       [[3, 2],\n",
       "        [3, 1]],\n",
       "\n",
       "       [[1, 0],\n",
       "        [1, 1]]])"
      ]
     },
     "execution_count": 31,
     "metadata": {},
     "output_type": "execute_result"
    }
   ],
   "source": [
    "b"
   ]
  },
  {
   "cell_type": "markdown",
   "metadata": {},
   "source": [
    "如果将三维数组的每一个二维看做一个平面（`plane，X[0, :, :], X[1, :, :], X[2, :, :]`），三维数组即是这些二维平面层叠（stacked）出来的结果。则:\n",
    "\n",
    "- axis=0: 表示全部平面上的对应位置\n",
    "- axis=1: 表示每一个平面的每一列\n",
    "- axis=2: 表示每一个平面的每一行"
   ]
  },
  {
   "cell_type": "markdown",
   "metadata": {},
   "source": [
    "抽象的说，axis就是把n维矩阵串成n+1维矩阵的那条线。如图，箭头就是一个轴。\n",
    "axis参数表明了沿着箭头方向进行操作。当有3个维度时，\n",
    "\n",
    "- 第1个（axis=0）axis就表达了下标为1的变化方向，即图中的“一维”，\n",
    "- 第3个axis(axis = 2)就表示了“三维”方向\n",
    "\n",
    "![](https://i.imgur.com/qeH9XD3.jpg)"
   ]
  },
  {
   "cell_type": "markdown",
   "metadata": {},
   "source": [
    "参考：http://jinghuasoft.com/smthview.jsp?board=Python&id=131182\n",
    "\n",
    "做了一个三维数组示意图，然后每个轴线的操作都看得一清二楚。\n",
    "\n",
    "![](http://jinghuasoft.com/nForum/att/Python/131182/271.large)"
   ]
  },
  {
   "cell_type": "markdown",
   "metadata": {},
   "source": [
    "![](http://jinghuasoft.com/nForum/att/Python/131182/23712.large)"
   ]
  },
  {
   "cell_type": "code",
   "execution_count": 32,
   "metadata": {},
   "outputs": [
    {
     "data": {
      "text/plain": [
       "21"
      ]
     },
     "execution_count": 32,
     "metadata": {},
     "output_type": "execute_result"
    }
   ],
   "source": [
    "np.sum(b)"
   ]
  },
  {
   "cell_type": "code",
   "execution_count": 33,
   "metadata": {},
   "outputs": [
    {
     "data": {
      "text/plain": [
       "array([[6, 6],\n",
       "       [6, 3]])"
      ]
     },
     "execution_count": 33,
     "metadata": {},
     "output_type": "execute_result"
    }
   ],
   "source": [
    "np.sum(b, axis=0)"
   ]
  },
  {
   "cell_type": "code",
   "execution_count": 27,
   "metadata": {},
   "outputs": [
    {
     "data": {
      "text/plain": [
       "array([[ 6,  3],\n",
       "       [15,  3],\n",
       "       [24,  3]])"
      ]
     },
     "execution_count": 27,
     "metadata": {},
     "output_type": "execute_result"
    }
   ],
   "source": [
    "np.sum(b, axis=1)"
   ]
  },
  {
   "cell_type": "code",
   "execution_count": 28,
   "metadata": {},
   "outputs": [
    {
     "data": {
      "text/plain": [
       "array([[ 2,  3,  4],\n",
       "       [ 5,  6,  7],\n",
       "       [ 8,  9, 10]])"
      ]
     },
     "execution_count": 28,
     "metadata": {},
     "output_type": "execute_result"
    }
   ],
   "source": [
    "np.sum(b, axis=2)"
   ]
  }
 ],
 "metadata": {
  "kernelspec": {
   "display_name": "Python 3",
   "language": "python",
   "name": "python3"
  },
  "language_info": {
   "codemirror_mode": {
    "name": "ipython",
    "version": 3
   },
   "file_extension": ".py",
   "mimetype": "text/x-python",
   "name": "python",
   "nbconvert_exporter": "python",
   "pygments_lexer": "ipython3",
   "version": "3.6.0"
  }
 },
 "nbformat": 4,
 "nbformat_minor": 2
}
